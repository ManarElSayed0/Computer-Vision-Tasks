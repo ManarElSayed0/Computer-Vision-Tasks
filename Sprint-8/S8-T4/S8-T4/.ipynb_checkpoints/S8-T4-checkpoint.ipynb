{
 "cells": [
  {
   "cell_type": "markdown",
   "id": "8c0982ab",
   "metadata": {},
   "source": [
    "## Play a video using OpenCV"
   ]
  },
  {
   "cell_type": "code",
   "execution_count": 1,
   "id": "d610bc9d",
   "metadata": {},
   "outputs": [],
   "source": [
    "import cv2 \n",
    "import numpy as np\n",
    "import os"
   ]
  },
  {
   "cell_type": "code",
   "execution_count": 2,
   "id": "b105fee9",
   "metadata": {},
   "outputs": [],
   "source": [
    "# Create a VideoCapture object and read from input file\n",
    "cap=cv2.VideoCapture(\"birds2.mp4\")\n",
    "# Check if camera opened successfully\n",
    "if (cap.isOpened()== False):\n",
    "    print(\"Error opening video  file\")"
   ]
  },
  {
   "cell_type": "code",
   "execution_count": 3,
   "id": "84d3d1ee",
   "metadata": {},
   "outputs": [],
   "source": [
    "# Read until video is completed\n",
    "while(cap.isOpened()):\n",
    "    # Capture frame-by-frame\n",
    "    ret,frame=cap.read()\n",
    "    if(ret==True):\n",
    "        # Display the resulting frame\n",
    "        cv2.imshow(\"Frame\",frame)\n",
    "        # Press Q on keyboard to  exit\n",
    "        if(cv2.waitKey(25)%0xFF==ord('q')):\n",
    "            break\n",
    "    else:\n",
    "        break\n",
    "# When everything done, release the video capture object\n",
    "cap.release()\n",
    "# Closes all the frames\n",
    "cv2.destroyAllWindows()"
   ]
  },
  {
   "cell_type": "markdown",
   "id": "e13d2529",
   "metadata": {},
   "source": [
    "## Extract images from video in Python"
   ]
  },
  {
   "cell_type": "code",
   "execution_count": 4,
   "id": "7bda5204",
   "metadata": {},
   "outputs": [],
   "source": [
    "try:\n",
    "    # creating a folder named data\n",
    "    if not os.path.exists('data'):\n",
    "        os.makedirs('data')\n",
    "    # if not created then raise error\n",
    "except OSError:\n",
    "    print ('Error: Creating directory of data')\n",
    "    \n",
    "    "
   ]
  }
 ],
 "metadata": {
  "kernelspec": {
   "display_name": "Python 3",
   "language": "python",
   "name": "python3"
  },
  "language_info": {
   "codemirror_mode": {
    "name": "ipython",
    "version": 3
   },
   "file_extension": ".py",
   "mimetype": "text/x-python",
   "name": "python",
   "nbconvert_exporter": "python",
   "pygments_lexer": "ipython3",
   "version": "3.8.8"
  }
 },
 "nbformat": 4,
 "nbformat_minor": 5
}
